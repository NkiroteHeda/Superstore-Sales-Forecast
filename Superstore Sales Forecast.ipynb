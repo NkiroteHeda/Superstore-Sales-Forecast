{
 "cells": [
  {
   "cell_type": "code",
   "execution_count": 95,
   "id": "8cfd54b9",
   "metadata": {},
   "outputs": [],
   "source": [
    "import pandas as pd\n",
    "import numpy as np\n",
    "import matplotlib.pyplot as plt\n",
    "%matplotlib inline\n",
    "from prophet import Prophet"
   ]
  },
  {
   "cell_type": "code",
   "execution_count": 103,
   "id": "70a32183",
   "metadata": {},
   "outputs": [
    {
     "data": {
      "text/html": [
       "<div>\n",
       "<style scoped>\n",
       "    .dataframe tbody tr th:only-of-type {\n",
       "        vertical-align: middle;\n",
       "    }\n",
       "\n",
       "    .dataframe tbody tr th {\n",
       "        vertical-align: top;\n",
       "    }\n",
       "\n",
       "    .dataframe thead th {\n",
       "        text-align: right;\n",
       "    }\n",
       "</style>\n",
       "<table border=\"1\" class=\"dataframe\">\n",
       "  <thead>\n",
       "    <tr style=\"text-align: right;\">\n",
       "      <th></th>\n",
       "      <th>Row ID</th>\n",
       "      <th>Order ID</th>\n",
       "      <th>Order Date</th>\n",
       "      <th>Ship Date</th>\n",
       "      <th>Ship Mode</th>\n",
       "      <th>Customer ID</th>\n",
       "      <th>Customer Name</th>\n",
       "      <th>Segment</th>\n",
       "      <th>Country</th>\n",
       "      <th>City</th>\n",
       "      <th>...</th>\n",
       "      <th>Postal Code</th>\n",
       "      <th>Region</th>\n",
       "      <th>Product ID</th>\n",
       "      <th>Category</th>\n",
       "      <th>Sub-Category</th>\n",
       "      <th>Product Name</th>\n",
       "      <th>Sales</th>\n",
       "      <th>Quantity</th>\n",
       "      <th>Discount</th>\n",
       "      <th>Profit</th>\n",
       "    </tr>\n",
       "  </thead>\n",
       "  <tbody>\n",
       "    <tr>\n",
       "      <th>0</th>\n",
       "      <td>1</td>\n",
       "      <td>CA-2016-152156</td>\n",
       "      <td>2016-11-08</td>\n",
       "      <td>2016-11-11</td>\n",
       "      <td>Second Class</td>\n",
       "      <td>CG-12520</td>\n",
       "      <td>Claire Gute</td>\n",
       "      <td>Consumer</td>\n",
       "      <td>United States</td>\n",
       "      <td>Henderson</td>\n",
       "      <td>...</td>\n",
       "      <td>42420</td>\n",
       "      <td>South</td>\n",
       "      <td>FUR-BO-10001798</td>\n",
       "      <td>Furniture</td>\n",
       "      <td>Bookcases</td>\n",
       "      <td>Bush Somerset Collection Bookcase</td>\n",
       "      <td>261.9600</td>\n",
       "      <td>2</td>\n",
       "      <td>0.00</td>\n",
       "      <td>41.9136</td>\n",
       "    </tr>\n",
       "    <tr>\n",
       "      <th>1</th>\n",
       "      <td>2</td>\n",
       "      <td>CA-2016-152156</td>\n",
       "      <td>2016-11-08</td>\n",
       "      <td>2016-11-11</td>\n",
       "      <td>Second Class</td>\n",
       "      <td>CG-12520</td>\n",
       "      <td>Claire Gute</td>\n",
       "      <td>Consumer</td>\n",
       "      <td>United States</td>\n",
       "      <td>Henderson</td>\n",
       "      <td>...</td>\n",
       "      <td>42420</td>\n",
       "      <td>South</td>\n",
       "      <td>FUR-CH-10000454</td>\n",
       "      <td>Furniture</td>\n",
       "      <td>Chairs</td>\n",
       "      <td>Hon Deluxe Fabric Upholstered Stacking Chairs,...</td>\n",
       "      <td>731.9400</td>\n",
       "      <td>3</td>\n",
       "      <td>0.00</td>\n",
       "      <td>219.5820</td>\n",
       "    </tr>\n",
       "    <tr>\n",
       "      <th>2</th>\n",
       "      <td>3</td>\n",
       "      <td>CA-2016-138688</td>\n",
       "      <td>2016-06-12</td>\n",
       "      <td>2016-06-16</td>\n",
       "      <td>Second Class</td>\n",
       "      <td>DV-13045</td>\n",
       "      <td>Darrin Van Huff</td>\n",
       "      <td>Corporate</td>\n",
       "      <td>United States</td>\n",
       "      <td>Los Angeles</td>\n",
       "      <td>...</td>\n",
       "      <td>90036</td>\n",
       "      <td>West</td>\n",
       "      <td>OFF-LA-10000240</td>\n",
       "      <td>Office Supplies</td>\n",
       "      <td>Labels</td>\n",
       "      <td>Self-Adhesive Address Labels for Typewriters b...</td>\n",
       "      <td>14.6200</td>\n",
       "      <td>2</td>\n",
       "      <td>0.00</td>\n",
       "      <td>6.8714</td>\n",
       "    </tr>\n",
       "    <tr>\n",
       "      <th>3</th>\n",
       "      <td>4</td>\n",
       "      <td>US-2015-108966</td>\n",
       "      <td>2015-10-11</td>\n",
       "      <td>2015-10-18</td>\n",
       "      <td>Standard Class</td>\n",
       "      <td>SO-20335</td>\n",
       "      <td>Sean O'Donnell</td>\n",
       "      <td>Consumer</td>\n",
       "      <td>United States</td>\n",
       "      <td>Fort Lauderdale</td>\n",
       "      <td>...</td>\n",
       "      <td>33311</td>\n",
       "      <td>South</td>\n",
       "      <td>FUR-TA-10000577</td>\n",
       "      <td>Furniture</td>\n",
       "      <td>Tables</td>\n",
       "      <td>Bretford CR4500 Series Slim Rectangular Table</td>\n",
       "      <td>957.5775</td>\n",
       "      <td>5</td>\n",
       "      <td>0.45</td>\n",
       "      <td>-383.0310</td>\n",
       "    </tr>\n",
       "    <tr>\n",
       "      <th>4</th>\n",
       "      <td>5</td>\n",
       "      <td>US-2015-108966</td>\n",
       "      <td>2015-10-11</td>\n",
       "      <td>2015-10-18</td>\n",
       "      <td>Standard Class</td>\n",
       "      <td>SO-20335</td>\n",
       "      <td>Sean O'Donnell</td>\n",
       "      <td>Consumer</td>\n",
       "      <td>United States</td>\n",
       "      <td>Fort Lauderdale</td>\n",
       "      <td>...</td>\n",
       "      <td>33311</td>\n",
       "      <td>South</td>\n",
       "      <td>OFF-ST-10000760</td>\n",
       "      <td>Office Supplies</td>\n",
       "      <td>Storage</td>\n",
       "      <td>Eldon Fold 'N Roll Cart System</td>\n",
       "      <td>22.3680</td>\n",
       "      <td>2</td>\n",
       "      <td>0.20</td>\n",
       "      <td>2.5164</td>\n",
       "    </tr>\n",
       "  </tbody>\n",
       "</table>\n",
       "<p>5 rows × 21 columns</p>\n",
       "</div>"
      ],
      "text/plain": [
       "   Row ID        Order ID Order Date  Ship Date       Ship Mode Customer ID  \\\n",
       "0       1  CA-2016-152156 2016-11-08 2016-11-11    Second Class    CG-12520   \n",
       "1       2  CA-2016-152156 2016-11-08 2016-11-11    Second Class    CG-12520   \n",
       "2       3  CA-2016-138688 2016-06-12 2016-06-16    Second Class    DV-13045   \n",
       "3       4  US-2015-108966 2015-10-11 2015-10-18  Standard Class    SO-20335   \n",
       "4       5  US-2015-108966 2015-10-11 2015-10-18  Standard Class    SO-20335   \n",
       "\n",
       "     Customer Name    Segment        Country             City  ...  \\\n",
       "0      Claire Gute   Consumer  United States        Henderson  ...   \n",
       "1      Claire Gute   Consumer  United States        Henderson  ...   \n",
       "2  Darrin Van Huff  Corporate  United States      Los Angeles  ...   \n",
       "3   Sean O'Donnell   Consumer  United States  Fort Lauderdale  ...   \n",
       "4   Sean O'Donnell   Consumer  United States  Fort Lauderdale  ...   \n",
       "\n",
       "  Postal Code  Region       Product ID         Category Sub-Category  \\\n",
       "0       42420   South  FUR-BO-10001798        Furniture    Bookcases   \n",
       "1       42420   South  FUR-CH-10000454        Furniture       Chairs   \n",
       "2       90036    West  OFF-LA-10000240  Office Supplies       Labels   \n",
       "3       33311   South  FUR-TA-10000577        Furniture       Tables   \n",
       "4       33311   South  OFF-ST-10000760  Office Supplies      Storage   \n",
       "\n",
       "                                        Product Name     Sales  Quantity  \\\n",
       "0                  Bush Somerset Collection Bookcase  261.9600         2   \n",
       "1  Hon Deluxe Fabric Upholstered Stacking Chairs,...  731.9400         3   \n",
       "2  Self-Adhesive Address Labels for Typewriters b...   14.6200         2   \n",
       "3      Bretford CR4500 Series Slim Rectangular Table  957.5775         5   \n",
       "4                     Eldon Fold 'N Roll Cart System   22.3680         2   \n",
       "\n",
       "   Discount    Profit  \n",
       "0      0.00   41.9136  \n",
       "1      0.00  219.5820  \n",
       "2      0.00    6.8714  \n",
       "3      0.45 -383.0310  \n",
       "4      0.20    2.5164  \n",
       "\n",
       "[5 rows x 21 columns]"
      ]
     },
     "execution_count": 103,
     "metadata": {},
     "output_type": "execute_result"
    }
   ],
   "source": [
    "#read dataset \n",
    "df= pd.read_excel('Superstore2017.xls')\n",
    "df.head()"
   ]
  },
  {
   "cell_type": "code",
   "execution_count": 104,
   "id": "4a54f46e",
   "metadata": {},
   "outputs": [
    {
     "data": {
      "text/plain": [
       "(9994, 21)"
      ]
     },
     "execution_count": 104,
     "metadata": {},
     "output_type": "execute_result"
    }
   ],
   "source": [
    "#shape\n",
    "df.shape"
   ]
  },
  {
   "cell_type": "code",
   "execution_count": 105,
   "id": "9e5e2cf5",
   "metadata": {},
   "outputs": [
    {
     "name": "stdout",
     "output_type": "stream",
     "text": [
      "False\n"
     ]
    },
    {
     "data": {
      "text/plain": [
       "Row ID           0\n",
       "Order ID         0\n",
       "Order Date       0\n",
       "Ship Date        0\n",
       "Ship Mode        0\n",
       "Customer ID      0\n",
       "Customer Name    0\n",
       "Segment          0\n",
       "Country          0\n",
       "City             0\n",
       "State            0\n",
       "Postal Code      0\n",
       "Region           0\n",
       "Product ID       0\n",
       "Category         0\n",
       "Sub-Category     0\n",
       "Product Name     0\n",
       "Sales            0\n",
       "Quantity         0\n",
       "Discount         0\n",
       "Profit           0\n",
       "dtype: int64"
      ]
     },
     "execution_count": 105,
     "metadata": {},
     "output_type": "execute_result"
    }
   ],
   "source": [
    "#duplicates and nulls\n",
    "print(df.duplicated().any())\n",
    "df.isnull().sum()\n"
   ]
  },
  {
   "cell_type": "markdown",
   "id": "d2acf2fa",
   "metadata": {},
   "source": [
    "### Data Overview\n",
    "\n",
    "1. The Dataset has 9994 rows and 21 rows \n",
    "2. No duplicates or null entries in the dataset"
   ]
  },
  {
   "cell_type": "code",
   "execution_count": 106,
   "id": "6cb942e1",
   "metadata": {},
   "outputs": [
    {
     "data": {
      "text/plain": [
       "Row ID                    int64\n",
       "Order ID                 object\n",
       "Order Date       datetime64[ns]\n",
       "Ship Date        datetime64[ns]\n",
       "Ship Mode                object\n",
       "Customer ID              object\n",
       "Customer Name            object\n",
       "Segment                  object\n",
       "Country                  object\n",
       "City                     object\n",
       "State                    object\n",
       "Postal Code               int64\n",
       "Region                   object\n",
       "Product ID               object\n",
       "Category                 object\n",
       "Sub-Category             object\n",
       "Product Name             object\n",
       "Sales                   float64\n",
       "Quantity                  int64\n",
       "Discount                float64\n",
       "Profit                  float64\n",
       "dtype: object"
      ]
     },
     "execution_count": 106,
     "metadata": {},
     "output_type": "execute_result"
    }
   ],
   "source": [
    "#data types \n",
    "df.dtypes"
   ]
  },
  {
   "cell_type": "code",
   "execution_count": 107,
   "id": "01fce228",
   "metadata": {},
   "outputs": [
    {
     "data": {
      "text/plain": [
       "array(['Furniture', 'Office Supplies', 'Technology'], dtype=object)"
      ]
     },
     "execution_count": 107,
     "metadata": {},
     "output_type": "execute_result"
    }
   ],
   "source": [
    "#choose the category to forecast\n",
    "df['Category'].unique()"
   ]
  },
  {
   "cell_type": "code",
   "execution_count": 108,
   "id": "99128329",
   "metadata": {},
   "outputs": [
    {
     "data": {
      "text/html": [
       "<div>\n",
       "<style scoped>\n",
       "    .dataframe tbody tr th:only-of-type {\n",
       "        vertical-align: middle;\n",
       "    }\n",
       "\n",
       "    .dataframe tbody tr th {\n",
       "        vertical-align: top;\n",
       "    }\n",
       "\n",
       "    .dataframe thead th {\n",
       "        text-align: right;\n",
       "    }\n",
       "</style>\n",
       "<table border=\"1\" class=\"dataframe\">\n",
       "  <thead>\n",
       "    <tr style=\"text-align: right;\">\n",
       "      <th></th>\n",
       "      <th>Row ID</th>\n",
       "      <th>Order ID</th>\n",
       "      <th>Order Date</th>\n",
       "      <th>Ship Date</th>\n",
       "      <th>Ship Mode</th>\n",
       "      <th>Customer ID</th>\n",
       "      <th>Customer Name</th>\n",
       "      <th>Segment</th>\n",
       "      <th>Country</th>\n",
       "      <th>City</th>\n",
       "      <th>...</th>\n",
       "      <th>Postal Code</th>\n",
       "      <th>Region</th>\n",
       "      <th>Product ID</th>\n",
       "      <th>Category</th>\n",
       "      <th>Sub-Category</th>\n",
       "      <th>Product Name</th>\n",
       "      <th>Sales</th>\n",
       "      <th>Quantity</th>\n",
       "      <th>Discount</th>\n",
       "      <th>Profit</th>\n",
       "    </tr>\n",
       "  </thead>\n",
       "  <tbody>\n",
       "    <tr>\n",
       "      <th>11</th>\n",
       "      <td>12</td>\n",
       "      <td>CA-2014-115812</td>\n",
       "      <td>2014-06-09</td>\n",
       "      <td>2014-06-14</td>\n",
       "      <td>Standard Class</td>\n",
       "      <td>BH-11710</td>\n",
       "      <td>Brosina Hoffman</td>\n",
       "      <td>Consumer</td>\n",
       "      <td>United States</td>\n",
       "      <td>Los Angeles</td>\n",
       "      <td>...</td>\n",
       "      <td>90032</td>\n",
       "      <td>West</td>\n",
       "      <td>TEC-PH-10002033</td>\n",
       "      <td>Technology</td>\n",
       "      <td>Phones</td>\n",
       "      <td>Konftel 250 Conference phone - Charcoal black</td>\n",
       "      <td>911.424</td>\n",
       "      <td>4</td>\n",
       "      <td>0.2</td>\n",
       "      <td>68.3568</td>\n",
       "    </tr>\n",
       "    <tr>\n",
       "      <th>8654</th>\n",
       "      <td>8655</td>\n",
       "      <td>CA-2014-142769</td>\n",
       "      <td>2014-09-13</td>\n",
       "      <td>2014-09-13</td>\n",
       "      <td>Same Day</td>\n",
       "      <td>RP-19390</td>\n",
       "      <td>Resi Pölking</td>\n",
       "      <td>Consumer</td>\n",
       "      <td>United States</td>\n",
       "      <td>Seattle</td>\n",
       "      <td>...</td>\n",
       "      <td>98103</td>\n",
       "      <td>West</td>\n",
       "      <td>TEC-AC-10003399</td>\n",
       "      <td>Technology</td>\n",
       "      <td>Accessories</td>\n",
       "      <td>Memorex Mini Travel Drive 64 GB USB 2.0 Flash ...</td>\n",
       "      <td>144.960</td>\n",
       "      <td>4</td>\n",
       "      <td>0.0</td>\n",
       "      <td>60.8832</td>\n",
       "    </tr>\n",
       "    <tr>\n",
       "      <th>7221</th>\n",
       "      <td>7222</td>\n",
       "      <td>US-2017-104437</td>\n",
       "      <td>2017-01-27</td>\n",
       "      <td>2017-01-31</td>\n",
       "      <td>Standard Class</td>\n",
       "      <td>TG-21310</td>\n",
       "      <td>Toby Gnade</td>\n",
       "      <td>Consumer</td>\n",
       "      <td>United States</td>\n",
       "      <td>New York City</td>\n",
       "      <td>...</td>\n",
       "      <td>10035</td>\n",
       "      <td>East</td>\n",
       "      <td>TEC-PH-10000193</td>\n",
       "      <td>Technology</td>\n",
       "      <td>Phones</td>\n",
       "      <td>Jensen SMPS-640 - speaker phone</td>\n",
       "      <td>137.940</td>\n",
       "      <td>3</td>\n",
       "      <td>0.0</td>\n",
       "      <td>35.8644</td>\n",
       "    </tr>\n",
       "    <tr>\n",
       "      <th>4331</th>\n",
       "      <td>4332</td>\n",
       "      <td>CA-2017-107909</td>\n",
       "      <td>2017-09-01</td>\n",
       "      <td>2017-09-06</td>\n",
       "      <td>Standard Class</td>\n",
       "      <td>SS-20875</td>\n",
       "      <td>Sung Shariari</td>\n",
       "      <td>Consumer</td>\n",
       "      <td>United States</td>\n",
       "      <td>Redmond</td>\n",
       "      <td>...</td>\n",
       "      <td>98052</td>\n",
       "      <td>West</td>\n",
       "      <td>TEC-AC-10001998</td>\n",
       "      <td>Technology</td>\n",
       "      <td>Accessories</td>\n",
       "      <td>Logitech LS21 Speaker System - PC Multimedia -...</td>\n",
       "      <td>19.990</td>\n",
       "      <td>1</td>\n",
       "      <td>0.0</td>\n",
       "      <td>6.7966</td>\n",
       "    </tr>\n",
       "    <tr>\n",
       "      <th>9764</th>\n",
       "      <td>9765</td>\n",
       "      <td>CA-2014-123855</td>\n",
       "      <td>2014-06-18</td>\n",
       "      <td>2014-06-23</td>\n",
       "      <td>Standard Class</td>\n",
       "      <td>MC-18100</td>\n",
       "      <td>Mick Crebagga</td>\n",
       "      <td>Consumer</td>\n",
       "      <td>United States</td>\n",
       "      <td>Los Angeles</td>\n",
       "      <td>...</td>\n",
       "      <td>90036</td>\n",
       "      <td>West</td>\n",
       "      <td>TEC-PH-10000215</td>\n",
       "      <td>Technology</td>\n",
       "      <td>Phones</td>\n",
       "      <td>Plantronics Cordless Phone Headset with In-lin...</td>\n",
       "      <td>139.800</td>\n",
       "      <td>5</td>\n",
       "      <td>0.2</td>\n",
       "      <td>12.2325</td>\n",
       "    </tr>\n",
       "  </tbody>\n",
       "</table>\n",
       "<p>5 rows × 21 columns</p>\n",
       "</div>"
      ],
      "text/plain": [
       "      Row ID        Order ID Order Date  Ship Date       Ship Mode  \\\n",
       "11        12  CA-2014-115812 2014-06-09 2014-06-14  Standard Class   \n",
       "8654    8655  CA-2014-142769 2014-09-13 2014-09-13        Same Day   \n",
       "7221    7222  US-2017-104437 2017-01-27 2017-01-31  Standard Class   \n",
       "4331    4332  CA-2017-107909 2017-09-01 2017-09-06  Standard Class   \n",
       "9764    9765  CA-2014-123855 2014-06-18 2014-06-23  Standard Class   \n",
       "\n",
       "     Customer ID    Customer Name   Segment        Country           City  \\\n",
       "11      BH-11710  Brosina Hoffman  Consumer  United States    Los Angeles   \n",
       "8654    RP-19390     Resi Pölking  Consumer  United States        Seattle   \n",
       "7221    TG-21310       Toby Gnade  Consumer  United States  New York City   \n",
       "4331    SS-20875    Sung Shariari  Consumer  United States        Redmond   \n",
       "9764    MC-18100    Mick Crebagga  Consumer  United States    Los Angeles   \n",
       "\n",
       "      ... Postal Code  Region       Product ID    Category Sub-Category  \\\n",
       "11    ...       90032    West  TEC-PH-10002033  Technology       Phones   \n",
       "8654  ...       98103    West  TEC-AC-10003399  Technology  Accessories   \n",
       "7221  ...       10035    East  TEC-PH-10000193  Technology       Phones   \n",
       "4331  ...       98052    West  TEC-AC-10001998  Technology  Accessories   \n",
       "9764  ...       90036    West  TEC-PH-10000215  Technology       Phones   \n",
       "\n",
       "                                           Product Name    Sales  Quantity  \\\n",
       "11        Konftel 250 Conference phone - Charcoal black  911.424         4   \n",
       "8654  Memorex Mini Travel Drive 64 GB USB 2.0 Flash ...  144.960         4   \n",
       "7221                    Jensen SMPS-640 - speaker phone  137.940         3   \n",
       "4331  Logitech LS21 Speaker System - PC Multimedia -...   19.990         1   \n",
       "9764  Plantronics Cordless Phone Headset with In-lin...  139.800         5   \n",
       "\n",
       "      Discount   Profit  \n",
       "11         0.2  68.3568  \n",
       "8654       0.0  60.8832  \n",
       "7221       0.0  35.8644  \n",
       "4331       0.0   6.7966  \n",
       "9764       0.2  12.2325  \n",
       "\n",
       "[5 rows x 21 columns]"
      ]
     },
     "execution_count": 108,
     "metadata": {},
     "output_type": "execute_result"
    }
   ],
   "source": [
    "df= df.loc[df['Category']=='Technology']\n",
    "\n",
    "df.sample(5)"
   ]
  },
  {
   "cell_type": "code",
   "execution_count": 109,
   "id": "6bd0f389",
   "metadata": {},
   "outputs": [
    {
     "data": {
      "text/plain": [
       "Index(['Row ID', 'Order ID', 'Order Date', 'Ship Date', 'Ship Mode',\n",
       "       'Customer ID', 'Customer Name', 'Segment', 'Country', 'City', 'State',\n",
       "       'Postal Code', 'Region', 'Product ID', 'Category', 'Sub-Category',\n",
       "       'Product Name', 'Sales', 'Quantity', 'Discount', 'Profit'],\n",
       "      dtype='object')"
      ]
     },
     "execution_count": 109,
     "metadata": {},
     "output_type": "execute_result"
    }
   ],
   "source": [
    "#for the forecast we focus on the sales and the order date\n",
    "df.columns"
   ]
  },
  {
   "cell_type": "code",
   "execution_count": 110,
   "id": "7dff0c82",
   "metadata": {},
   "outputs": [],
   "source": [
    "#select the columns to drop \n",
    "cols =['Row ID', 'Order ID','Ship Date', 'Ship Mode','Customer ID', 'Customer Name', 'Segment', 'Country', 'City', 'State','Postal Code', 'Region', 'Product ID', 'Category', 'Sub-Category','Product Name', 'Quantity', 'Discount', 'Profit']"
   ]
  },
  {
   "cell_type": "code",
   "execution_count": 111,
   "id": "2ae1d5b2",
   "metadata": {},
   "outputs": [
    {
     "data": {
      "text/html": [
       "<div>\n",
       "<style scoped>\n",
       "    .dataframe tbody tr th:only-of-type {\n",
       "        vertical-align: middle;\n",
       "    }\n",
       "\n",
       "    .dataframe tbody tr th {\n",
       "        vertical-align: top;\n",
       "    }\n",
       "\n",
       "    .dataframe thead th {\n",
       "        text-align: right;\n",
       "    }\n",
       "</style>\n",
       "<table border=\"1\" class=\"dataframe\">\n",
       "  <thead>\n",
       "    <tr style=\"text-align: right;\">\n",
       "      <th></th>\n",
       "      <th>Order Date</th>\n",
       "      <th>Sales</th>\n",
       "    </tr>\n",
       "  </thead>\n",
       "  <tbody>\n",
       "    <tr>\n",
       "      <th>7</th>\n",
       "      <td>2014-06-09</td>\n",
       "      <td>907.152</td>\n",
       "    </tr>\n",
       "    <tr>\n",
       "      <th>11</th>\n",
       "      <td>2014-06-09</td>\n",
       "      <td>911.424</td>\n",
       "    </tr>\n",
       "    <tr>\n",
       "      <th>19</th>\n",
       "      <td>2014-08-27</td>\n",
       "      <td>213.480</td>\n",
       "    </tr>\n",
       "  </tbody>\n",
       "</table>\n",
       "</div>"
      ],
      "text/plain": [
       "   Order Date    Sales\n",
       "7  2014-06-09  907.152\n",
       "11 2014-06-09  911.424\n",
       "19 2014-08-27  213.480"
      ]
     },
     "execution_count": 111,
     "metadata": {},
     "output_type": "execute_result"
    }
   ],
   "source": [
    "df= df.drop(cols,axis=1)\n",
    "\n",
    "df.head(3)\n"
   ]
  },
  {
   "cell_type": "code",
   "execution_count": 116,
   "id": "be971718",
   "metadata": {},
   "outputs": [
    {
     "data": {
      "text/html": [
       "<div>\n",
       "<style scoped>\n",
       "    .dataframe tbody tr th:only-of-type {\n",
       "        vertical-align: middle;\n",
       "    }\n",
       "\n",
       "    .dataframe tbody tr th {\n",
       "        vertical-align: top;\n",
       "    }\n",
       "\n",
       "    .dataframe thead th {\n",
       "        text-align: right;\n",
       "    }\n",
       "</style>\n",
       "<table border=\"1\" class=\"dataframe\">\n",
       "  <thead>\n",
       "    <tr style=\"text-align: right;\">\n",
       "      <th></th>\n",
       "      <th>Order Date</th>\n",
       "      <th>Sales</th>\n",
       "    </tr>\n",
       "  </thead>\n",
       "  <tbody>\n",
       "    <tr>\n",
       "      <th>0</th>\n",
       "      <td>2014-01-31</td>\n",
       "      <td>349.254444</td>\n",
       "    </tr>\n",
       "    <tr>\n",
       "      <th>1</th>\n",
       "      <td>2014-02-28</td>\n",
       "      <td>201.063750</td>\n",
       "    </tr>\n",
       "    <tr>\n",
       "      <th>2</th>\n",
       "      <td>2014-03-31</td>\n",
       "      <td>1477.780636</td>\n",
       "    </tr>\n",
       "    <tr>\n",
       "      <th>3</th>\n",
       "      <td>2014-04-30</td>\n",
       "      <td>353.670538</td>\n",
       "    </tr>\n",
       "    <tr>\n",
       "      <th>4</th>\n",
       "      <td>2014-05-31</td>\n",
       "      <td>355.550963</td>\n",
       "    </tr>\n",
       "  </tbody>\n",
       "</table>\n",
       "</div>"
      ],
      "text/plain": [
       "  Order Date        Sales\n",
       "0 2014-01-31   349.254444\n",
       "1 2014-02-28   201.063750\n",
       "2 2014-03-31  1477.780636\n",
       "3 2014-04-30   353.670538\n",
       "4 2014-05-31   355.550963"
      ]
     },
     "execution_count": 116,
     "metadata": {},
     "output_type": "execute_result"
    }
   ],
   "source": [
    "#resample the dataset\n",
    "df=df.resample('M',on='Order Date').mean()\n",
    "df = df.reset_index()\n",
    "df.head(5)"
   ]
  },
  {
   "cell_type": "code",
   "execution_count": 117,
   "id": "0c4b7a7f",
   "metadata": {},
   "outputs": [
    {
     "data": {
      "text/html": [
       "<div>\n",
       "<style scoped>\n",
       "    .dataframe tbody tr th:only-of-type {\n",
       "        vertical-align: middle;\n",
       "    }\n",
       "\n",
       "    .dataframe tbody tr th {\n",
       "        vertical-align: top;\n",
       "    }\n",
       "\n",
       "    .dataframe thead th {\n",
       "        text-align: right;\n",
       "    }\n",
       "</style>\n",
       "<table border=\"1\" class=\"dataframe\">\n",
       "  <thead>\n",
       "    <tr style=\"text-align: right;\">\n",
       "      <th></th>\n",
       "      <th>ds</th>\n",
       "      <th>y</th>\n",
       "    </tr>\n",
       "  </thead>\n",
       "  <tbody>\n",
       "    <tr>\n",
       "      <th>0</th>\n",
       "      <td>2014-01-31</td>\n",
       "      <td>349.254444</td>\n",
       "    </tr>\n",
       "    <tr>\n",
       "      <th>1</th>\n",
       "      <td>2014-02-28</td>\n",
       "      <td>201.063750</td>\n",
       "    </tr>\n",
       "    <tr>\n",
       "      <th>2</th>\n",
       "      <td>2014-03-31</td>\n",
       "      <td>1477.780636</td>\n",
       "    </tr>\n",
       "    <tr>\n",
       "      <th>3</th>\n",
       "      <td>2014-04-30</td>\n",
       "      <td>353.670538</td>\n",
       "    </tr>\n",
       "    <tr>\n",
       "      <th>4</th>\n",
       "      <td>2014-05-31</td>\n",
       "      <td>355.550963</td>\n",
       "    </tr>\n",
       "  </tbody>\n",
       "</table>\n",
       "</div>"
      ],
      "text/plain": [
       "          ds            y\n",
       "0 2014-01-31   349.254444\n",
       "1 2014-02-28   201.063750\n",
       "2 2014-03-31  1477.780636\n",
       "3 2014-04-30   353.670538\n",
       "4 2014-05-31   355.550963"
      ]
     },
     "execution_count": 117,
     "metadata": {},
     "output_type": "execute_result"
    }
   ],
   "source": [
    "#Prophet needs the column names as 'ds' and 'y'\n",
    "df.columns =['ds','y']\n",
    "df.head(5)"
   ]
  },
  {
   "cell_type": "code",
   "execution_count": 119,
   "id": "4ef88b8b",
   "metadata": {},
   "outputs": [
    {
     "name": "stderr",
     "output_type": "stream",
     "text": [
      "09:58:06 - cmdstanpy - INFO - Chain [1] start processing\n",
      "09:58:06 - cmdstanpy - INFO - Chain [1] done processing\n"
     ]
    },
    {
     "data": {
      "text/plain": [
       "<prophet.forecaster.Prophet at 0x12ccd8db850>"
      ]
     },
     "execution_count": 119,
     "metadata": {},
     "output_type": "execute_result"
    }
   ],
   "source": [
    "#create a model and fit the dataset\n",
    "model= Prophet()\n",
    "#fit the dataset\n",
    "model.fit(df)"
   ]
  },
  {
   "cell_type": "code",
   "execution_count": 120,
   "id": "198d6cd1",
   "metadata": {},
   "outputs": [
    {
     "data": {
      "text/html": [
       "<div>\n",
       "<style scoped>\n",
       "    .dataframe tbody tr th:only-of-type {\n",
       "        vertical-align: middle;\n",
       "    }\n",
       "\n",
       "    .dataframe tbody tr th {\n",
       "        vertical-align: top;\n",
       "    }\n",
       "\n",
       "    .dataframe thead th {\n",
       "        text-align: right;\n",
       "    }\n",
       "</style>\n",
       "<table border=\"1\" class=\"dataframe\">\n",
       "  <thead>\n",
       "    <tr style=\"text-align: right;\">\n",
       "      <th></th>\n",
       "      <th>ds</th>\n",
       "      <th>y</th>\n",
       "    </tr>\n",
       "  </thead>\n",
       "  <tbody>\n",
       "    <tr>\n",
       "      <th>43</th>\n",
       "      <td>2017-08-31</td>\n",
       "      <td>489.421167</td>\n",
       "    </tr>\n",
       "    <tr>\n",
       "      <th>44</th>\n",
       "      <td>2017-09-30</td>\n",
       "      <td>292.854380</td>\n",
       "    </tr>\n",
       "    <tr>\n",
       "      <th>45</th>\n",
       "      <td>2017-10-31</td>\n",
       "      <td>576.415140</td>\n",
       "    </tr>\n",
       "    <tr>\n",
       "      <th>46</th>\n",
       "      <td>2017-11-30</td>\n",
       "      <td>536.761000</td>\n",
       "    </tr>\n",
       "    <tr>\n",
       "      <th>47</th>\n",
       "      <td>2017-12-31</td>\n",
       "      <td>293.132133</td>\n",
       "    </tr>\n",
       "  </tbody>\n",
       "</table>\n",
       "</div>"
      ],
      "text/plain": [
       "           ds           y\n",
       "43 2017-08-31  489.421167\n",
       "44 2017-09-30  292.854380\n",
       "45 2017-10-31  576.415140\n",
       "46 2017-11-30  536.761000\n",
       "47 2017-12-31  293.132133"
      ]
     },
     "execution_count": 120,
     "metadata": {},
     "output_type": "execute_result"
    }
   ],
   "source": [
    "df.tail(5)"
   ]
  },
  {
   "cell_type": "code",
   "execution_count": 127,
   "id": "ebcc52e1",
   "metadata": {},
   "outputs": [],
   "source": [
    "#define the period for forecast\n",
    "#create a list to add the dates\n",
    "f_list= list()\n",
    "for i in range(1,13):\n",
    "    date='2017-%02d' % i\n",
    "    f_list.append([date])\n",
    "#create a dataframe from the list\n",
    "f_df=pd.DataFrame(f_list)\n",
    "f_df.columns=['ds']"
   ]
  },
  {
   "cell_type": "code",
   "execution_count": 128,
   "id": "163569a4",
   "metadata": {},
   "outputs": [],
   "source": [
    "#forecast using model, pass the new dataframe to the model\n",
    "forecast= model.predict(f_df)"
   ]
  },
  {
   "cell_type": "code",
   "execution_count": 129,
   "id": "943fce80",
   "metadata": {},
   "outputs": [
    {
     "data": {
      "image/png": "[encoded data removed]",
      "text/plain": [
       "<Figure size 720x432 with 1 Axes>"
      ]
     },
     "metadata": {},
     "output_type": "display_data"
    }
   ],
   "source": [
    "#plot the forecast\n",
    "model.plot(forecast)\n",
    "plt.show()"
   ]
  },
  {
   "cell_type": "markdown",
   "id": "d3c5ac9e",
   "metadata": {},
   "source": [
    "### Out of sample Forecast"
   ]
  },
  {
   "cell_type": "code",
   "execution_count": 130,
   "id": "ca9e08f4",
   "metadata": {},
   "outputs": [],
   "source": [
    "#make the forecast period out of the sample\n",
    "#define the period for forecast\n",
    "#create a list to add the dates\n",
    "f_list= list()\n",
    "for i in range(1,13):\n",
    "    date='2018-%02d' % i\n",
    "    f_list.append([date])\n",
    "#create a dataframe from the list\n",
    "f_df=pd.DataFrame(f_list)\n",
    "f_df.columns=['ds']"
   ]
  },
  {
   "cell_type": "code",
   "execution_count": 131,
   "id": "637a522d",
   "metadata": {},
   "outputs": [],
   "source": [
    "forecast=model.predict(f_df)"
   ]
  },
  {
   "cell_type": "code",
   "execution_count": 132,
   "id": "de53c1ec",
   "metadata": {},
   "outputs": [
    {
     "data": {
      "image/png": "[encoded data removed]",
      "text/plain": [
       "<Figure size 720x432 with 1 Axes>"
      ]
     },
     "execution_count": 132,
     "metadata": {},
     "output_type": "execute_result"
    },
    {
     "data": {
      "image/png": "[encoded data removed]",
      "text/plain": [
       "<Figure size 720x432 with 1 Axes>"
      ]
     },
     "metadata": {},
     "output_type": "display_data"
    }
   ],
   "source": [
    "#plot the forecast\n",
    "model.plot(forecast)"
   ]
  },
  {
   "cell_type": "markdown",
   "id": "15365009",
   "metadata": {},
   "source": [
    "### Evaluate The forecast model"
   ]
  },
  {
   "cell_type": "code",
   "execution_count": 133,
   "id": "039ef934",
   "metadata": {},
   "outputs": [
    {
     "data": {
      "text/html": [
       "<div>\n",
       "<style scoped>\n",
       "    .dataframe tbody tr th:only-of-type {\n",
       "        vertical-align: middle;\n",
       "    }\n",
       "\n",
       "    .dataframe tbody tr th {\n",
       "        vertical-align: top;\n",
       "    }\n",
       "\n",
       "    .dataframe thead th {\n",
       "        text-align: right;\n",
       "    }\n",
       "</style>\n",
       "<table border=\"1\" class=\"dataframe\">\n",
       "  <thead>\n",
       "    <tr style=\"text-align: right;\">\n",
       "      <th></th>\n",
       "      <th>ds</th>\n",
       "      <th>y</th>\n",
       "    </tr>\n",
       "  </thead>\n",
       "  <tbody>\n",
       "    <tr>\n",
       "      <th>31</th>\n",
       "      <td>2016-08-31</td>\n",
       "      <td>261.416270</td>\n",
       "    </tr>\n",
       "    <tr>\n",
       "      <th>32</th>\n",
       "      <td>2016-09-30</td>\n",
       "      <td>457.668120</td>\n",
       "    </tr>\n",
       "    <tr>\n",
       "      <th>33</th>\n",
       "      <td>2016-10-31</td>\n",
       "      <td>1087.357724</td>\n",
       "    </tr>\n",
       "    <tr>\n",
       "      <th>34</th>\n",
       "      <td>2016-11-30</td>\n",
       "      <td>371.795329</td>\n",
       "    </tr>\n",
       "    <tr>\n",
       "      <th>35</th>\n",
       "      <td>2016-12-31</td>\n",
       "      <td>365.946918</td>\n",
       "    </tr>\n",
       "  </tbody>\n",
       "</table>\n",
       "</div>"
      ],
      "text/plain": [
       "           ds            y\n",
       "31 2016-08-31   261.416270\n",
       "32 2016-09-30   457.668120\n",
       "33 2016-10-31  1087.357724\n",
       "34 2016-11-30   371.795329\n",
       "35 2016-12-31   365.946918"
      ]
     },
     "execution_count": 133,
     "metadata": {},
     "output_type": "execute_result"
    }
   ],
   "source": [
    "#create test dataset , remove the last 12 months\n",
    "train_df= df.drop(df.index[-12:])\n",
    "train_df.tail()"
   ]
  },
  {
   "cell_type": "code",
   "execution_count": 134,
   "id": "45a3e4a6",
   "metadata": {},
   "outputs": [
    {
     "name": "stderr",
     "output_type": "stream",
     "text": [
      "10:57:33 - cmdstanpy - INFO - Chain [1] start processing\n",
      "10:57:33 - cmdstanpy - INFO - Chain [1] done processing\n"
     ]
    },
    {
     "data": {
      "text/plain": [
       "<prophet.forecaster.Prophet at 0x12ccbc674f0>"
      ]
     },
     "execution_count": 134,
     "metadata": {},
     "output_type": "execute_result"
    }
   ],
   "source": [
    "#create the model\n",
    "model=Prophet()\n",
    "#fit the dataset to the model\n",
    "model.fit(train_df)"
   ]
  },
  {
   "cell_type": "code",
   "execution_count": 136,
   "id": "a4dff5ab",
   "metadata": {},
   "outputs": [],
   "source": [
    "#define the period for the prediction\n",
    "train_list= list()\n",
    "for i in range(1,13):\n",
    "    date='2017-%02d' % i\n",
    "    train_list.append([date])\n",
    "train_list= pd.DataFrame(train_list)\n",
    "train_list.columns= ['ds']\n",
    "#use the model to make a forecast\n",
    "forecast_train=model.predict(train_list)"
   ]
  },
  {
   "cell_type": "code",
   "execution_count": 137,
   "id": "b2fc5a3e",
   "metadata": {},
   "outputs": [],
   "source": [
    "#define a MAE function\n",
    "def mae(y_true, predictions):\n",
    "    y_true, predictions = np.array(y_true), np.array(predictions)\n",
    "    return np.mean(np.abs(y_true - predictions))"
   ]
  },
  {
   "cell_type": "code",
   "execution_count": 138,
   "id": "6919fbb6",
   "metadata": {},
   "outputs": [
    {
     "name": "stdout",
     "output_type": "stream",
     "text": [
      "MAE: 359.183\n"
     ]
    }
   ],
   "source": [
    "#calculate MAE between expected and predicted values for december\n",
    "y_true =df['y'][-12:].values\n",
    "y_pred =forecast_train['yhat'].values\n",
    "mae= mae(y_true,y_pred)\n",
    "print('MAE: %.3f' % mae)"
   ]
  },
  {
   "cell_type": "code",
   "execution_count": 139,
   "id": "86e98155",
   "metadata": {},
   "outputs": [
    {
     "data": {
      "image/png": "[encoded data removed]",
      "text/plain": [
       "<Figure size 432x288 with 1 Axes>"
      ]
     },
     "metadata": {
      "needs_background": "light"
     },
     "output_type": "display_data"
    }
   ],
   "source": [
    "#plot the y_true and the y_pred\n",
    "plt.plot(y_true,label='Actual')\n",
    "plt.plot(y_pred,label='Predicted')\n",
    "plt.legend()\n",
    "plt.show()"
   ]
  },
  {
   "cell_type": "markdown",
   "id": "3802dac3",
   "metadata": {},
   "source": [
    "## The end"
   ]
  },
  {
   "cell_type": "code",
   "execution_count": null,
   "id": "e14cafec",
   "metadata": {},
   "outputs": [],
   "source": []
  }
 ],
 "metadata": {
  "kernelspec": {
   "display_name": "Python 3 (ipykernel)",
   "language": "python",
   "name": "python3"
  },
  "language_info": {
   "codemirror_mode": {
    "name": "ipython",
    "version": 3
   },
   "file_extension": ".py",
   "mimetype": "text/x-python",
   "name": "python",
   "nbconvert_exporter": "python",
   "pygments_lexer": "ipython3",
   "version": "3.9.7"
  }
 },
 "nbformat": 4,
 "nbformat_minor": 5
}
